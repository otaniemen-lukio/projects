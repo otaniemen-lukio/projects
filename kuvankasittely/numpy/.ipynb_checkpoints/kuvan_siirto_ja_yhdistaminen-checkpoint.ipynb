{
 "cells": [
  {
   "cell_type": "code",
   "execution_count": null,
   "metadata": {},
   "outputs": [],
   "source": [
    "from skimage.transform import ProjectiveTransform\n",
    "from skimage.io import imread\n",
    "import numpy as np\n",
    "import matplotlib.pylab as plt\n",
    "\n",
    "im_src = imread('images/source_bike.jpeg')\n",
    "im_dst = imread('images/destination_bike.jpeg')\n",
    "im_mask = imread('images/destination_bike2_mask.jpeg')\n",
    "im_dst1 = np.copy(im_dst)\n",
    "height, width, dim = im_src.shape\n",
    "print(height, width, im_src.shape, im_dst.shape)\n",
    "\n",
    "pt = ProjectiveTransform()\n",
    "src = np.array([[   0.,    0.],\n",
    "       [height-1,    0.],\n",
    "       [height-1,  width-1],\n",
    "       [   0.,  width-1]])\n",
    "dst = np.array([[ 100., 15.],\n",
    "       [100+0.5*(im_dst.shape[0]-1), 15],\n",
    "       [100+0.5*(im_dst.shape[0]-1), 15+ 0.5*(im_dst.shape[1]-1)],\n",
    "       [ 100., 15+0.5*(im_dst.shape[1]-1)]])\n",
    "print(pt.estimate(src, dst))\n",
    "\n",
    "im_dst_masked = im_dst & im_mask\n",
    "\n",
    "x, y = np.mgrid[:im_dst.shape[0], :im_dst.shape[1]]\n",
    "dst_indices = np.hstack((x.reshape(-1, 1), y.reshape(-1,1))) \n",
    "src_indices = np.round(pt.inverse(dst_indices), 0).astype(int)\n",
    "valid_idx = np.where((src_indices[:,0] < height) & (src_indices[:,1] < width) & (src_indices[:,0] >= 0) & (src_indices[:,1] >= 0))\n",
    "dst_indicies_valid = dst_indices[valid_idx]\n",
    "src_indicies_valid = src_indices[valid_idx]\n",
    "im_dst[dst_indicies_valid[:,0],dst_indicies_valid[:,1]] = im_src[src_indicies_valid[:,0],src_indicies_valid[:,1]]\n",
    "im_dst &= (~im_mask) \n",
    "im_dst += im_dst_masked\n",
    "plt.figure(figsize=(20,30))\n",
    "plt.subplot(311), plt.imshow(im_src), plt.axis('off'), plt.title('Ruunaa kesä 2020', size=30)\n",
    "plt.subplot(312), plt.imshow(im_dst1), plt.axis('off'), plt.title('Espoo marraskuu 2020', size=30)\n",
    "plt.subplot(313), plt.imshow(im_dst), plt.axis('off'), plt.title('Yhdistelmä', size=30)\n",
    "plt.show()"
   ]
  }
 ],
 "metadata": {
  "kernelspec": {
   "display_name": "Python 3",
   "language": "python",
   "name": "python3"
  },
  "language_info": {
   "codemirror_mode": {
    "name": "ipython",
    "version": 3
   },
   "file_extension": ".py",
   "mimetype": "text/x-python",
   "name": "python",
   "nbconvert_exporter": "python",
   "pygments_lexer": "ipython3",
   "version": "3.8.3"
  }
 },
 "nbformat": 4,
 "nbformat_minor": 4
}
